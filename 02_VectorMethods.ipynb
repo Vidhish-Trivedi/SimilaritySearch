{
 "cells": [
  {
   "cell_type": "markdown",
   "metadata": {},
   "source": [
    "# 3 Vector-Based Methods for Similarity Search\n",
    "- TF-IDF    (Sparse)\n",
    "- BM25      (Sparse)\n",
    "- SBERT     (Dense)"
   ]
  },
  {
   "cell_type": "markdown",
   "metadata": {},
   "source": [
    "## TF-IDF"
   ]
  },
  {
   "cell_type": "code",
   "execution_count": 1,
   "metadata": {},
   "outputs": [],
   "source": [
    "a = \"purple is the best city in the forest\".split()\n",
    "b = \"there is am art to getting your way and throwing bananas on to the street is not it\".split()\n",
    "c = \"it is not often you find soggy bananas on the street\".split()\n",
    "d = \"green should have smelled more tranquil but somehow it just tasted rotten\".split()\n",
    "e = \"joyce enjoyed eating pancakes with ketchup\".split()\n",
    "f = \"as the asteroid hurtled toward earth becky was upset her dentist appointment had been cancelled\".split()\n",
    "# g is very similar to b.\n",
    "g = \"to get your way you must not bombard the road with yellow fruit\".split()"
   ]
  },
  {
   "cell_type": "code",
   "execution_count": 2,
   "metadata": {},
   "outputs": [],
   "source": [
    "def get_tf(query: str, document: str):\n",
    "    # Frequency of query in our document.\n",
    "    f1 = document.count(query)\n",
    "    # Total number of terms in the document.\n",
    "    f2 = len(document)\n",
    "\n",
    "    # The term frequency.\n",
    "    tf = f1/f2\n",
    "    return(tf)\n",
    "    \n"
   ]
  },
  {
   "cell_type": "code",
   "execution_count": 3,
   "metadata": {},
   "outputs": [],
   "source": [
    "from math import log10, inf\n",
    "\n",
    "def check_for_query(query: str, document: str):\n",
    "    return(query in document)\n",
    "\n",
    "def get_idf(query: str, documents: list):\n",
    "    # IDF: inverse document frequency.\n",
    "    \n",
    "    # Number of documents.\n",
    "    n = len(documents)\n",
    "\n",
    "    # Number of documents containing the query.\n",
    "    cnt = 0\n",
    "    for document in documents:\n",
    "        if(check_for_query(query, document)):\n",
    "            cnt += 1\n",
    "    \n",
    "    # IDF.\n",
    "    try:\n",
    "        idf = log10(n/cnt)\n",
    "        return(idf)\n",
    "    except ZeroDivisionError as e:\n",
    "        print(\"None of the documents contain this query!!!\", e)\n",
    "        return(inf)"
   ]
  },
  {
   "cell_type": "code",
   "execution_count": 4,
   "metadata": {},
   "outputs": [],
   "source": [
    "def tf_idf(query: str, documents: list, idx: int):\n",
    "    # idx is the index of the document for which TF is calculated.\n",
    "    try:\n",
    "        tf = get_tf(query, documents[idx])\n",
    "        idf = get_idf(query, documents)\n",
    "        return (tf*idf)\n",
    "    except IndexError as e:\n",
    "        print(\"Index out of bounds\", e)\n",
    "        return(-1)"
   ]
  },
  {
   "cell_type": "code",
   "execution_count": 5,
   "metadata": {},
   "outputs": [
    {
     "name": "stdout",
     "output_type": "stream",
     "text": [
      "0.0\n",
      "0.0\n",
      "0.0\n",
      "0.47712125471966244\n",
      "0.059640156839957804\n",
      "0.0\n",
      "0.0\n"
     ]
    }
   ],
   "source": [
    "print(tf_idf(\"is\", [a, b, c], 0))\n",
    "print(tf_idf(\"is\", [a, b, c], 1))\n",
    "print(tf_idf(\"is\", [a, b, c], 2))\n",
    "\n",
    "print(get_idf(\"forest\", [a, b, c]))\n",
    "\n",
    "print(tf_idf(\"forest\", [a, b, c], 0))\n",
    "print(tf_idf(\"forest\", [a, b, c], 1))\n",
    "print(tf_idf(\"forest\", [a, b, c], 2))"
   ]
  },
  {
   "cell_type": "code",
   "execution_count": 6,
   "metadata": {},
   "outputs": [],
   "source": [
    "# Using numpy.\n",
    "import numpy as np\n",
    "\n",
    "docs = [a, b, c]\n",
    "\n",
    "def tfidf(word: str, sentence: list):\n",
    "    freq = sentence.count(word)\n",
    "    # Term frequency\n",
    "    tf = freq / len(sentence)\n",
    "    # Inverse document frequency\n",
    "    idf = np.log10(len(docs)/sum([1 for doc in docs if word in doc]))\n",
    "\n",
    "    return(round(tf*idf, 4))\n"
   ]
  },
  {
   "cell_type": "code",
   "execution_count": 7,
   "metadata": {},
   "outputs": [
    {
     "name": "stdout",
     "output_type": "stream",
     "text": [
      "0.0\n",
      "0.0\n",
      "0.0\n",
      "0.0596\n",
      "0.0\n",
      "0.0\n"
     ]
    }
   ],
   "source": [
    "print(tfidf(\"is\", docs[0]))\n",
    "print(tfidf(\"is\", docs[1]))\n",
    "print(tfidf(\"is\", docs[2]))\n",
    "\n",
    "print(tfidf(\"forest\", docs[0]))\n",
    "print(tfidf(\"forest\", docs[1]))\n",
    "print(tfidf(\"forest\", docs[2]))"
   ]
  },
  {
   "cell_type": "code",
   "execution_count": 8,
   "metadata": {},
   "outputs": [
    {
     "data": {
      "text/plain": [
       "{'am',\n",
       " 'and',\n",
       " 'art',\n",
       " 'bananas',\n",
       " 'best',\n",
       " 'city',\n",
       " 'find',\n",
       " 'forest',\n",
       " 'getting',\n",
       " 'in',\n",
       " 'is',\n",
       " 'it',\n",
       " 'not',\n",
       " 'often',\n",
       " 'on',\n",
       " 'purple',\n",
       " 'soggy',\n",
       " 'street',\n",
       " 'the',\n",
       " 'there',\n",
       " 'throwing',\n",
       " 'to',\n",
       " 'way',\n",
       " 'you',\n",
       " 'your'}"
      ]
     },
     "execution_count": 8,
     "metadata": {},
     "output_type": "execute_result"
    }
   ],
   "source": [
    "# Converting TF-IDF to a vector.\n",
    "vocab = set(a + b + c)\n",
    "vocab"
   ]
  },
  {
   "cell_type": "code",
   "execution_count": 9,
   "metadata": {},
   "outputs": [],
   "source": [
    "# Calculate, for every word, the TF-IDF for every document.\n",
    "vec_a = []\n",
    "vec_b = []\n",
    "vec_c = []\n",
    "\n",
    "for word in vocab:\n",
    "    vec_a.append(tfidf(word, a))\n",
    "    vec_b.append(tfidf(word, b))\n",
    "    vec_c.append(tfidf(word, c))\n"
   ]
  },
  {
   "cell_type": "code",
   "execution_count": 10,
   "metadata": {},
   "outputs": [
    {
     "data": {
      "text/plain": [
       "[0.0,\n",
       " 0.0,\n",
       " 0.0596,\n",
       " 0.0,\n",
       " 0.0,\n",
       " 0.0,\n",
       " 0.0,\n",
       " 0.0,\n",
       " 0.0596,\n",
       " 0.0596,\n",
       " 0.0,\n",
       " 0.0,\n",
       " 0.0596,\n",
       " 0.0,\n",
       " 0.0,\n",
       " 0.0596,\n",
       " 0.0,\n",
       " 0.0,\n",
       " 0.0,\n",
       " 0.0,\n",
       " 0.0,\n",
       " 0.0,\n",
       " 0.0,\n",
       " 0.0,\n",
       " 0.0]"
      ]
     },
     "execution_count": 10,
     "metadata": {},
     "output_type": "execute_result"
    }
   ],
   "source": [
    "vec_a"
   ]
  },
  {
   "cell_type": "code",
   "execution_count": 11,
   "metadata": {},
   "outputs": [
    {
     "data": {
      "text/plain": [
       "[0.0265,\n",
       " 0.0,\n",
       " 0.0,\n",
       " 0.0265,\n",
       " 0.0265,\n",
       " 0.0265,\n",
       " 0.0265,\n",
       " 0.0,\n",
       " 0.0,\n",
       " 0.0,\n",
       " 0.0,\n",
       " 0.0098,\n",
       " 0.0,\n",
       " 0.0098,\n",
       " 0.0,\n",
       " 0.0,\n",
       " 0.0265,\n",
       " 0.0098,\n",
       " 0.0265,\n",
       " 0.0098,\n",
       " 0.0098,\n",
       " 0.0,\n",
       " 0.0265,\n",
       " 0.053,\n",
       " 0.0]"
      ]
     },
     "execution_count": 11,
     "metadata": {},
     "output_type": "execute_result"
    }
   ],
   "source": [
    "vec_b"
   ]
  },
  {
   "cell_type": "code",
   "execution_count": 12,
   "metadata": {},
   "outputs": [
    {
     "data": {
      "text/plain": [
       "[0.0,\n",
       " 0.0434,\n",
       " 0.0,\n",
       " 0.0,\n",
       " 0.0,\n",
       " 0.0,\n",
       " 0.0,\n",
       " 0.0434,\n",
       " 0.0,\n",
       " 0.0,\n",
       " 0.0,\n",
       " 0.016,\n",
       " 0.0,\n",
       " 0.016,\n",
       " 0.0434,\n",
       " 0.0,\n",
       " 0.0,\n",
       " 0.016,\n",
       " 0.0,\n",
       " 0.016,\n",
       " 0.016,\n",
       " 0.0434,\n",
       " 0.0,\n",
       " 0.0,\n",
       " 0.0]"
      ]
     },
     "execution_count": 12,
     "metadata": {},
     "output_type": "execute_result"
    }
   ],
   "source": [
    "vec_c"
   ]
  },
  {
   "cell_type": "markdown",
   "metadata": {},
   "source": [
    "## BM25"
   ]
  },
  {
   "cell_type": "markdown",
   "metadata": {},
   "source": [
    "Optimized version of TF-IDF. In TF-IDF, as the frequency of the query in the document increases, the score increases linearly. This is not an accurate gauge of relevance."
   ]
  },
  {
   "cell_type": "code",
   "execution_count": 13,
   "metadata": {},
   "outputs": [],
   "source": [
    "docs = [a, b, c, d, e, f]"
   ]
  },
  {
   "cell_type": "code",
   "execution_count": 14,
   "metadata": {},
   "outputs": [],
   "source": [
    "N = len(docs)\n",
    "avg_doc_len = sum(len(sentence) for sentence in docs) / N\n",
    "\n",
    "def bm25(word: str, sentence: str, k=1.2, b=0.75):\n",
    "    freq = sentence.count(word) # f(q, D)\n",
    "    # Term Frequency\n",
    "    tf = (freq * (k + 1)) / (freq + k*(1 - b + b*len(sentence)/avg_doc_len))\n",
    "    \n",
    "    # Number of documents that contain word\n",
    "    N_q = sum([1 for doc in docs if word in doc])\n",
    "\n",
    "    # Inverse Document Frequency\n",
    "    idf = np.log(1 + (N - N_q + 0.5) / (N_q + 0.5))\n",
    "\n",
    "    return(round(tf*idf, 4))"
   ]
  },
  {
   "cell_type": "code",
   "execution_count": 15,
   "metadata": {},
   "outputs": [
    {
     "data": {
      "text/plain": [
       "0.0"
      ]
     },
     "execution_count": 15,
     "metadata": {},
     "output_type": "execute_result"
    }
   ],
   "source": [
    "bm25(\"purple\", b)"
   ]
  },
  {
   "cell_type": "code",
   "execution_count": 16,
   "metadata": {},
   "outputs": [
    {
     "data": {
      "text/plain": [
       "1.7677"
      ]
     },
     "execution_count": 16,
     "metadata": {},
     "output_type": "execute_result"
    }
   ],
   "source": [
    "bm25(\"purple\", a)"
   ]
  },
  {
   "cell_type": "code",
   "execution_count": 17,
   "metadata": {},
   "outputs": [
    {
     "name": "stdout",
     "output_type": "stream",
     "text": [
      "tfidf a1:  0.0222\n",
      "tfidf a2:  0.0432\n",
      "bm25 a1:  0.8472\n",
      "bm25 a2:  1.335\n"
     ]
    }
   ],
   "source": [
    "a1 = \"this car is purple and it runs fast\"\n",
    "a2 = \"i like purple, my favorite is purple\"\n",
    "\n",
    "print(\"tfidf a1: \", tfidf(\"purple\", a1))\n",
    "print(\"tfidf a2: \", tfidf(\"purple\", a2))\n",
    "print(\"bm25 a1: \", bm25(\"purple\", a1))\n",
    "print(\"bm25 a2: \", bm25(\"purple\", a2))"
   ]
  },
  {
   "cell_type": "markdown",
   "metadata": {},
   "source": [
    "## SBERT"
   ]
  },
  {
   "cell_type": "code",
   "execution_count": 18,
   "metadata": {},
   "outputs": [
    {
     "data": {
      "application/vnd.jupyter.widget-view+json": {
       "model_id": "1dda8cc12c0f48fe819d1b2a2da4e0ce",
       "version_major": 2,
       "version_minor": 0
      },
      "text/plain": [
       "Downloading (…)821d1/.gitattributes:   0%|          | 0.00/391 [00:00<?, ?B/s]"
      ]
     },
     "metadata": {},
     "output_type": "display_data"
    },
    {
     "data": {
      "application/vnd.jupyter.widget-view+json": {
       "model_id": "a1474b11fe984e5391b08f738d23ae92",
       "version_major": 2,
       "version_minor": 0
      },
      "text/plain": [
       "Downloading (…)_Pooling/config.json:   0%|          | 0.00/190 [00:00<?, ?B/s]"
      ]
     },
     "metadata": {},
     "output_type": "display_data"
    },
    {
     "data": {
      "application/vnd.jupyter.widget-view+json": {
       "model_id": "547dad3739ff45819804c22342cf57cf",
       "version_major": 2,
       "version_minor": 0
      },
      "text/plain": [
       "Downloading (…)8d01e821d1/README.md:   0%|          | 0.00/3.95k [00:00<?, ?B/s]"
      ]
     },
     "metadata": {},
     "output_type": "display_data"
    },
    {
     "data": {
      "application/vnd.jupyter.widget-view+json": {
       "model_id": "b16d64074daf4b1eb12cd220348c0411",
       "version_major": 2,
       "version_minor": 0
      },
      "text/plain": [
       "Downloading (…)d1/added_tokens.json:   0%|          | 0.00/2.00 [00:00<?, ?B/s]"
      ]
     },
     "metadata": {},
     "output_type": "display_data"
    },
    {
     "data": {
      "application/vnd.jupyter.widget-view+json": {
       "model_id": "59351815afa34593892ef093bf5d4ded",
       "version_major": 2,
       "version_minor": 0
      },
      "text/plain": [
       "Downloading (…)01e821d1/config.json:   0%|          | 0.00/625 [00:00<?, ?B/s]"
      ]
     },
     "metadata": {},
     "output_type": "display_data"
    },
    {
     "data": {
      "application/vnd.jupyter.widget-view+json": {
       "model_id": "991dafac6aa243b8bcc80e7e327da16a",
       "version_major": 2,
       "version_minor": 0
      },
      "text/plain": [
       "Downloading (…)ce_transformers.json:   0%|          | 0.00/122 [00:00<?, ?B/s]"
      ]
     },
     "metadata": {},
     "output_type": "display_data"
    },
    {
     "data": {
      "application/vnd.jupyter.widget-view+json": {
       "model_id": "df2102d121af478cae03a5c109351929",
       "version_major": 2,
       "version_minor": 0
      },
      "text/plain": [
       "Downloading pytorch_model.bin:   0%|          | 0.00/438M [00:00<?, ?B/s]"
      ]
     },
     "metadata": {},
     "output_type": "display_data"
    },
    {
     "data": {
      "application/vnd.jupyter.widget-view+json": {
       "model_id": "4550e42e41bf4efca2dda84ae7053d5b",
       "version_major": 2,
       "version_minor": 0
      },
      "text/plain": [
       "Downloading (…)nce_bert_config.json:   0%|          | 0.00/53.0 [00:00<?, ?B/s]"
      ]
     },
     "metadata": {},
     "output_type": "display_data"
    },
    {
     "data": {
      "application/vnd.jupyter.widget-view+json": {
       "model_id": "a7027bfeadde45bfa14bdb5d292ac426",
       "version_major": 2,
       "version_minor": 0
      },
      "text/plain": [
       "Downloading (…)cial_tokens_map.json:   0%|          | 0.00/112 [00:00<?, ?B/s]"
      ]
     },
     "metadata": {},
     "output_type": "display_data"
    },
    {
     "data": {
      "application/vnd.jupyter.widget-view+json": {
       "model_id": "b341323e80df41cd87bceb2c52bc8934",
       "version_major": 2,
       "version_minor": 0
      },
      "text/plain": [
       "Downloading (…)821d1/tokenizer.json:   0%|          | 0.00/466k [00:00<?, ?B/s]"
      ]
     },
     "metadata": {},
     "output_type": "display_data"
    },
    {
     "data": {
      "application/vnd.jupyter.widget-view+json": {
       "model_id": "569454bc0ce34742bff03095d0067e9e",
       "version_major": 2,
       "version_minor": 0
      },
      "text/plain": [
       "Downloading (…)okenizer_config.json:   0%|          | 0.00/399 [00:00<?, ?B/s]"
      ]
     },
     "metadata": {},
     "output_type": "display_data"
    },
    {
     "data": {
      "application/vnd.jupyter.widget-view+json": {
       "model_id": "fafd725aa485407cad30c0e48d4e963f",
       "version_major": 2,
       "version_minor": 0
      },
      "text/plain": [
       "Downloading (…)8d01e821d1/vocab.txt:   0%|          | 0.00/232k [00:00<?, ?B/s]"
      ]
     },
     "metadata": {},
     "output_type": "display_data"
    },
    {
     "data": {
      "application/vnd.jupyter.widget-view+json": {
       "model_id": "0c959ffe34244711aae3717703255506",
       "version_major": 2,
       "version_minor": 0
      },
      "text/plain": [
       "Downloading (…)1e821d1/modules.json:   0%|          | 0.00/229 [00:00<?, ?B/s]"
      ]
     },
     "metadata": {},
     "output_type": "display_data"
    }
   ],
   "source": [
    "from sentence_transformers import SentenceTransformer\n",
    "model = SentenceTransformer('bert-base-nli-mean-tokens')"
   ]
  },
  {
   "cell_type": "code",
   "execution_count": 19,
   "metadata": {},
   "outputs": [],
   "source": [
    "docs = [a, b, c, d, e, f, g]\n",
    "sentence_embeddings = model.encode(docs)"
   ]
  },
  {
   "cell_type": "code",
   "execution_count": 20,
   "metadata": {},
   "outputs": [],
   "source": [
    "from sklearn.metrics.pairwise import cosine_similarity\n",
    "\n",
    "# Calculate similarities and store in a list.\n",
    "scores = np.zeros((sentence_embeddings.shape[0], sentence_embeddings.shape[0]))\n",
    "for i in range(sentence_embeddings.shape[0]):\n",
    "    scores[i, :] = cosine_similarity([sentence_embeddings[i]], sentence_embeddings)[0]"
   ]
  },
  {
   "cell_type": "code",
   "execution_count": 21,
   "metadata": {},
   "outputs": [
    {
     "data": {
      "text/plain": [
       "array([[0.99999988, 0.7334435 , 0.73750222, 0.68846285, 0.57291883,\n",
       "        0.71828824, 0.71877611],\n",
       "       [0.7334435 , 1.        , 0.96404165, 0.74360418, 0.67559481,\n",
       "        0.91467702, 0.95032322],\n",
       "       [0.73750222, 0.96404165, 1.        , 0.73878711, 0.66657013,\n",
       "        0.96022242, 0.92937332],\n",
       "       [0.68846285, 0.74360418, 0.73878711, 0.99999982, 0.57304776,\n",
       "        0.69360393, 0.72075301],\n",
       "       [0.57291883, 0.67559481, 0.66657013, 0.57304776, 1.00000012,\n",
       "        0.67700011, 0.67161906],\n",
       "       [0.71828824, 0.91467702, 0.96022242, 0.69360399, 0.67700011,\n",
       "        1.00000012, 0.91012239],\n",
       "       [0.71877611, 0.95032322, 0.92937326, 0.72075289, 0.67161906,\n",
       "        0.91012233, 1.00000024]])"
      ]
     },
     "execution_count": 21,
     "metadata": {},
     "output_type": "execute_result"
    }
   ],
   "source": [
    "scores"
   ]
  },
  {
   "cell_type": "code",
   "execution_count": 22,
   "metadata": {},
   "outputs": [
    {
     "data": {
      "text/plain": [
       "<Axes: >"
      ]
     },
     "execution_count": 22,
     "metadata": {},
     "output_type": "execute_result"
    },
    {
     "data": {
      "image/png": "[encoded data removed]",
      "text/plain": [
       "<Figure size 1000x900 with 2 Axes>"
      ]
     },
     "metadata": {},
     "output_type": "display_data"
    }
   ],
   "source": [
    "import matplotlib.pyplot as plt\n",
    "import seaborn as sns\n",
    "\n",
    "plt.figure(figsize=(10, 9))\n",
    "labels = ['a', 'b', 'c', 'd', 'e', 'f', 'g']\n",
    "sns.heatmap(scores, xticklabels=labels, yticklabels=labels, annot=True)"
   ]
  },
  {
   "cell_type": "markdown",
   "metadata": {},
   "source": [
    "These scores tell us how 'similar' two sentences are."
   ]
  }
 ],
 "metadata": {
  "kernelspec": {
   "display_name": "mlds",
   "language": "python",
   "name": "python3"
  },
  "language_info": {
   "codemirror_mode": {
    "name": "ipython",
    "version": 3
   },
   "file_extension": ".py",
   "mimetype": "text/x-python",
   "name": "python",
   "nbconvert_exporter": "python",
   "pygments_lexer": "ipython3",
   "version": "3.11.4"
  },
  "orig_nbformat": 4
 },
 "nbformat": 4,
 "nbformat_minor": 2
}
