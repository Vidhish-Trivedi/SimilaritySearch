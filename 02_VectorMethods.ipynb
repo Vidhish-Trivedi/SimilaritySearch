{
 "cells": [
  {
   "cell_type": "markdown",
   "metadata": {},
   "source": [
    "# 3 Vector-Based Methods for Similarity Search\n",
    "- TF-IDF    (Sparse)\n",
    "- BM25      (Sparse)\n",
    "- SBERT     (Dense)"
   ]
  },
  {
   "cell_type": "markdown",
   "metadata": {},
   "source": [
    "## TF-IDF"
   ]
  },
  {
   "cell_type": "code",
   "execution_count": 28,
   "metadata": {},
   "outputs": [],
   "source": [
    "a = \"purple is the best city in the forest\".split()\n",
    "b = \"there is am art to getting your way and throwing bananas on to the street is not it\".split()\n",
    "c = \"it is not often you find soggy bananas on the street\".split()"
   ]
  },
  {
   "cell_type": "code",
   "execution_count": 33,
   "metadata": {},
   "outputs": [],
   "source": [
    "def get_tf(query: str, document: str):\n",
    "    # Frequency of query in our document.\n",
    "    f1 = document.count(query)\n",
    "    # Total number of terms in the document.\n",
    "    f2 = len(document)\n",
    "\n",
    "    # The term frequency.\n",
    "    tf = f1/f2\n",
    "    return(tf)\n",
    "    \n"
   ]
  },
  {
   "cell_type": "code",
   "execution_count": 34,
   "metadata": {},
   "outputs": [],
   "source": [
    "from math import log10, inf\n",
    "\n",
    "def check_for_query(query: str, document: str):\n",
    "    return(query in document)\n",
    "\n",
    "def get_idf(query: str, documents: list):\n",
    "    # IDF: inverse document frequency.\n",
    "    \n",
    "    # Number of documents.\n",
    "    n = len(documents)\n",
    "\n",
    "    # Number of documents containing the query.\n",
    "    cnt = 0\n",
    "    for document in documents:\n",
    "        if(check_for_query(query, document)):\n",
    "            cnt += 1\n",
    "    \n",
    "    # IDF.\n",
    "    try:\n",
    "        idf = log10(n/cnt)\n",
    "        return(idf)\n",
    "    except ZeroDivisionError as e:\n",
    "        print(\"None of the documents contain this query!!!\", e)\n",
    "        return(inf)"
   ]
  },
  {
   "cell_type": "code",
   "execution_count": 35,
   "metadata": {},
   "outputs": [],
   "source": [
    "def tf_idf(query: str, documents: list, idx: int):\n",
    "    # idx is the index of the document for which TF is calculated.\n",
    "    try:\n",
    "        tf = get_tf(query, documents[idx])\n",
    "        idf = get_idf(query, documents)\n",
    "        return (tf*idf)\n",
    "    except IndexError as e:\n",
    "        print(\"Index out of bounds\", e)\n",
    "        return(-1)"
   ]
  },
  {
   "cell_type": "code",
   "execution_count": 36,
   "metadata": {},
   "outputs": [
    {
     "name": "stdout",
     "output_type": "stream",
     "text": [
      "0.0\n",
      "0.0\n",
      "0.0\n",
      "0.47712125471966244\n",
      "0.059640156839957804\n",
      "0.0\n",
      "0.0\n"
     ]
    }
   ],
   "source": [
    "print(tf_idf(\"is\", [a, b, c], 0))\n",
    "print(tf_idf(\"is\", [a, b, c], 1))\n",
    "print(tf_idf(\"is\", [a, b, c], 2))\n",
    "\n",
    "print(get_idf(\"forest\", [a, b, c]))\n",
    "\n",
    "print(tf_idf(\"forest\", [a, b, c], 0))\n",
    "print(tf_idf(\"forest\", [a, b, c], 1))\n",
    "print(tf_idf(\"forest\", [a, b, c], 2))"
   ]
  },
  {
   "cell_type": "code",
   "execution_count": 38,
   "metadata": {},
   "outputs": [],
   "source": [
    "# Using numpy.\n",
    "import numpy as np\n",
    "\n",
    "docs = [a, b, c]\n",
    "\n",
    "def tfidf(word: str, sentence: list):\n",
    "    # Term frequency\n",
    "    tf = sentence.count(word) / len(sentence)\n",
    "    # Inverse document frequency\n",
    "    idf = np.log10(len(docs)/sum([1 for doc in docs if word in doc]))\n",
    "\n",
    "    return(round(tf*idf, 4))\n"
   ]
  },
  {
   "cell_type": "code",
   "execution_count": 39,
   "metadata": {},
   "outputs": [
    {
     "name": "stdout",
     "output_type": "stream",
     "text": [
      "0.0\n",
      "0.0\n",
      "0.0\n",
      "0.0596\n",
      "0.0\n",
      "0.0\n"
     ]
    }
   ],
   "source": [
    "print(tfidf(\"is\", docs[0]))\n",
    "print(tfidf(\"is\", docs[1]))\n",
    "print(tfidf(\"is\", docs[2]))\n",
    "\n",
    "print(tfidf(\"forest\", docs[0]))\n",
    "print(tfidf(\"forest\", docs[1]))\n",
    "print(tfidf(\"forest\", docs[2]))"
   ]
  },
  {
   "cell_type": "code",
   "execution_count": 41,
   "metadata": {},
   "outputs": [
    {
     "data": {
      "text/plain": [
       "{'am',\n",
       " 'and',\n",
       " 'art',\n",
       " 'bananas',\n",
       " 'best',\n",
       " 'city',\n",
       " 'find',\n",
       " 'forest',\n",
       " 'getting',\n",
       " 'in',\n",
       " 'is',\n",
       " 'it',\n",
       " 'not',\n",
       " 'often',\n",
       " 'on',\n",
       " 'purple',\n",
       " 'soggy',\n",
       " 'street',\n",
       " 'the',\n",
       " 'there',\n",
       " 'throwing',\n",
       " 'to',\n",
       " 'way',\n",
       " 'you',\n",
       " 'your'}"
      ]
     },
     "execution_count": 41,
     "metadata": {},
     "output_type": "execute_result"
    }
   ],
   "source": [
    "# Converting TF-IDF to a vector.\n",
    "vocab = set(a + b + c)\n",
    "vocab"
   ]
  },
  {
   "cell_type": "code",
   "execution_count": 42,
   "metadata": {},
   "outputs": [],
   "source": [
    "# Calculate, for every word, the TF-IDF for every document.\n",
    "vec_a = []\n",
    "vec_b = []\n",
    "vec_c = []\n",
    "\n",
    "for word in vocab:\n",
    "    vec_a.append(tfidf(word, a))\n",
    "    vec_b.append(tfidf(word, b))\n",
    "    vec_c.append(tfidf(word, c))\n"
   ]
  },
  {
   "cell_type": "code",
   "execution_count": 43,
   "metadata": {},
   "outputs": [
    {
     "data": {
      "text/plain": [
       "[0.0,\n",
       " 0.0,\n",
       " 0.0,\n",
       " 0.0,\n",
       " 0.0,\n",
       " 0.0,\n",
       " 0.0,\n",
       " 0.0,\n",
       " 0.0,\n",
       " 0.0,\n",
       " 0.0596,\n",
       " 0.0,\n",
       " 0.0596,\n",
       " 0.0,\n",
       " 0.0,\n",
       " 0.0,\n",
       " 0.0,\n",
       " 0.0,\n",
       " 0.0596,\n",
       " 0.0,\n",
       " 0.0,\n",
       " 0.0,\n",
       " 0.0,\n",
       " 0.0596,\n",
       " 0.0596]"
      ]
     },
     "execution_count": 43,
     "metadata": {},
     "output_type": "execute_result"
    }
   ],
   "source": [
    "vec_a"
   ]
  },
  {
   "cell_type": "code",
   "execution_count": 44,
   "metadata": {},
   "outputs": [
    {
     "data": {
      "text/plain": [
       "[0.0,\n",
       " 0.0265,\n",
       " 0.0265,\n",
       " 0.0,\n",
       " 0.0265,\n",
       " 0.0,\n",
       " 0.0098,\n",
       " 0.0098,\n",
       " 0.0,\n",
       " 0.0098,\n",
       " 0.0,\n",
       " 0.0098,\n",
       " 0.0,\n",
       " 0.0265,\n",
       " 0.0,\n",
       " 0.0265,\n",
       " 0.0098,\n",
       " 0.0265,\n",
       " 0.0,\n",
       " 0.053,\n",
       " 0.0265,\n",
       " 0.0,\n",
       " 0.0265,\n",
       " 0.0,\n",
       " 0.0]"
      ]
     },
     "execution_count": 44,
     "metadata": {},
     "output_type": "execute_result"
    }
   ],
   "source": [
    "vec_b"
   ]
  },
  {
   "cell_type": "code",
   "execution_count": 45,
   "metadata": {},
   "outputs": [
    {
     "data": {
      "text/plain": [
       "[0.0434,\n",
       " 0.0,\n",
       " 0.0,\n",
       " 0.0,\n",
       " 0.0,\n",
       " 0.0434,\n",
       " 0.016,\n",
       " 0.016,\n",
       " 0.0434,\n",
       " 0.016,\n",
       " 0.0,\n",
       " 0.016,\n",
       " 0.0,\n",
       " 0.0,\n",
       " 0.0,\n",
       " 0.0,\n",
       " 0.016,\n",
       " 0.0,\n",
       " 0.0,\n",
       " 0.0,\n",
       " 0.0,\n",
       " 0.0434,\n",
       " 0.0,\n",
       " 0.0,\n",
       " 0.0]"
      ]
     },
     "execution_count": 45,
     "metadata": {},
     "output_type": "execute_result"
    }
   ],
   "source": [
    "vec_c"
   ]
  },
  {
   "cell_type": "markdown",
   "metadata": {},
   "source": [
    "## BM25"
   ]
  },
  {
   "cell_type": "code",
   "execution_count": null,
   "metadata": {},
   "outputs": [],
   "source": []
  }
 ],
 "metadata": {
  "kernelspec": {
   "display_name": "mlds",
   "language": "python",
   "name": "python3"
  },
  "language_info": {
   "codemirror_mode": {
    "name": "ipython",
    "version": 3
   },
   "file_extension": ".py",
   "mimetype": "text/x-python",
   "name": "python",
   "nbconvert_exporter": "python",
   "pygments_lexer": "ipython3",
   "version": "3.11.4"
  },
  "orig_nbformat": 4
 },
 "nbformat": 4,
 "nbformat_minor": 2
}
