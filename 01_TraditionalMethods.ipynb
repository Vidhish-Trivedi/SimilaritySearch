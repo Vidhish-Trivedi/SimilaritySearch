{
 "cells": [
  {
   "cell_type": "markdown",
   "metadata": {},
   "source": [
    "# 3 Traditional Methods for Similarity Search\n",
    "- Jaccard Similarity\n",
    "- w-shingling\n",
    "- Levenshtein Distance"
   ]
  },
  {
   "cell_type": "code",
   "execution_count": 4,
   "metadata": {},
   "outputs": [],
   "source": [
    "a = \"his thought process was on so many levels that he gave himself a phobia of heights\"\n",
    "b = \"there is an art to getting your way and throwing bananas on to the street is not it\"\n",
    "c = \"it is not often you find soggy bananas on the street\""
   ]
  },
  {
   "cell_type": "code",
   "execution_count": 5,
   "metadata": {},
   "outputs": [],
   "source": [
    "def jaccard(x: str, y: str):\n",
    "    # Convert to sets.\n",
    "    x = set(x.split())\n",
    "    y = set(y.split())\n",
    "\n",
    "    intersection = x.intersection(y)\n",
    "    union = x.union(y)\n",
    "    return (len(intersection)/len(union))"
   ]
  },
  {
   "cell_type": "code",
   "execution_count": 6,
   "metadata": {},
   "outputs": [
    {
     "data": {
      "text/plain": [
       "0.25"
      ]
     },
     "execution_count": 6,
     "metadata": {},
     "output_type": "execute_result"
    }
   ],
   "source": [
    "jaccard(\"1 2 3\", \"2 4\")"
   ]
  },
  {
   "cell_type": "code",
   "execution_count": 7,
   "metadata": {},
   "outputs": [
    {
     "data": {
      "text/plain": [
       "0.35"
      ]
     },
     "execution_count": 7,
     "metadata": {},
     "output_type": "execute_result"
    }
   ],
   "source": [
    "jaccard(b, c)"
   ]
  },
  {
   "cell_type": "code",
   "execution_count": 8,
   "metadata": {},
   "outputs": [],
   "source": [
    "# Split into words.\n",
    "a = a.split()\n",
    "# Formulate 2-gram.\n",
    "a_2gram = set([\" \".join([a[i], a[i + 1]]) for i in range(len(a) - 1)])"
   ]
  },
  {
   "cell_type": "code",
   "execution_count": 9,
   "metadata": {},
   "outputs": [
    {
     "data": {
      "text/plain": [
       "{'a phobia',\n",
       " 'gave himself',\n",
       " 'he gave',\n",
       " 'himself a',\n",
       " 'his thought',\n",
       " 'levels that',\n",
       " 'many levels',\n",
       " 'of heights',\n",
       " 'on so',\n",
       " 'phobia of',\n",
       " 'process was',\n",
       " 'so many',\n",
       " 'that he',\n",
       " 'thought process',\n",
       " 'was on'}"
      ]
     },
     "execution_count": 9,
     "metadata": {},
     "output_type": "execute_result"
    }
   ],
   "source": [
    "a_2gram"
   ]
  },
  {
   "cell_type": "code",
   "execution_count": 10,
   "metadata": {},
   "outputs": [],
   "source": [
    "def get_2gram(x: str):\n",
    "    x = x.split()\n",
    "    x_2gram = set([\" \".join([x[i], x[i + 1]]) for i in range(len(x) - 1)])\n",
    "    return(x_2gram)"
   ]
  },
  {
   "cell_type": "code",
   "execution_count": 11,
   "metadata": {},
   "outputs": [],
   "source": [
    "def w_shingling(x: set, y: set):\n",
    "    intersection = x.intersection(y)\n",
    "    union = x.union(y)\n",
    "    return (len(intersection)/len(union))"
   ]
  },
  {
   "cell_type": "code",
   "execution_count": 12,
   "metadata": {},
   "outputs": [],
   "source": [
    "b_2gram = get_2gram(b)\n",
    "c_2gram = get_2gram(c)"
   ]
  },
  {
   "cell_type": "code",
   "execution_count": 13,
   "metadata": {},
   "outputs": [
    {
     "data": {
      "text/plain": [
       "0.125"
      ]
     },
     "execution_count": 13,
     "metadata": {},
     "output_type": "execute_result"
    }
   ],
   "source": [
    "w_shingling(b_2gram, c_2gram)"
   ]
  },
  {
   "cell_type": "code",
   "execution_count": 14,
   "metadata": {},
   "outputs": [],
   "source": [
    "import numpy as np"
   ]
  },
  {
   "cell_type": "code",
   "execution_count": 21,
   "metadata": {},
   "outputs": [],
   "source": [
    "def levenshtein(x: str, y: str):\n",
    "    # Adding leading space to both strings.\n",
    "    x = f\" {x}\"\n",
    "    y = f\" {y}\"\n",
    "\n",
    "    # Initialise empty matrix.\n",
    "    lev = np.zeros((len(x), len(y)))\n",
    "\n",
    "    # Use the recursion.\n",
    "    for i in range(len(x)):\n",
    "        for j in range(len(y)):\n",
    "            if(min(i, j) == 0):\n",
    "                lev[i][j] = max(i, j)\n",
    "            else:\n",
    "                a = lev[i - 1][j] # Deletion\n",
    "                b = lev[i][j - 1] # Insertion\n",
    "                c = lev[i - 1][j - 1] # Substitution\n",
    "\n",
    "                lev[i][j] = min([a, b, c])\n",
    "                if(x[i] != y[j]):\n",
    "                    lev[i][j] += 1\n",
    "    \n",
    "    # Return entire matrix, and the last value.\n",
    "    return lev, lev[-1][-1]"
   ]
  },
  {
   "cell_type": "code",
   "execution_count": 22,
   "metadata": {},
   "outputs": [
    {
     "data": {
      "text/plain": [
       "(array([[ 0.,  1.,  2., ..., 50., 51., 52.],\n",
       "        [ 1.,  1.,  1., ..., 45., 46., 46.],\n",
       "        [ 2.,  2.,  2., ..., 45., 46., 47.],\n",
       "        ...,\n",
       "        [81., 77., 70., ..., 39., 39., 37.],\n",
       "        [82., 77., 71., ..., 40., 40., 38.],\n",
       "        [83., 78., 71., ..., 41., 41., 38.]]),\n",
       " 38.0)"
      ]
     },
     "execution_count": 22,
     "metadata": {},
     "output_type": "execute_result"
    }
   ],
   "source": [
    "levenshtein(b, c)"
   ]
  },
  {
   "cell_type": "markdown",
   "metadata": {},
   "source": [
    "String b requires 38 deletions/insertions/substitutions to be converted to string c"
   ]
  },
  {
   "cell_type": "code",
   "execution_count": 23,
   "metadata": {},
   "outputs": [
    {
     "data": {
      "text/plain": [
       "(array([[ 0.,  1.,  2.,  3.,  4.,  5.,  6.,  7.,  8.,  9., 10.],\n",
       "        [ 1.,  0.,  1.,  2.,  3.,  4.,  5.,  6.,  7.,  8.,  9.],\n",
       "        [ 2.,  1.,  1.,  2.,  3.,  4.,  5.,  6.,  7.,  7.,  8.],\n",
       "        [ 3.,  2.,  2.,  1.,  2.,  3.,  4.,  5.,  6.,  7.,  8.],\n",
       "        [ 4.,  3.,  3.,  2.,  2.,  3.,  4.,  5.,  6.,  6.,  7.],\n",
       "        [ 5.,  4.,  4.,  3.,  3.,  2.,  3.,  4.,  5.,  6.,  6.],\n",
       "        [ 6.,  5.,  5.,  4.,  4.,  3.,  2.,  3.,  4.,  5.,  6.],\n",
       "        [ 7.,  6.,  6.,  5.,  5.,  4.,  3.,  2.,  3.,  4.,  5.],\n",
       "        [ 8.,  7.,  7.,  6.,  6.,  5.,  4.,  3.,  2.,  3.,  4.],\n",
       "        [ 9.,  8.,  8.,  7.,  7.,  6.,  5.,  4.,  3.,  2.,  3.],\n",
       "        [10.,  9.,  8.,  8.,  7.,  7.,  6.,  5.,  4.,  3.,  3.],\n",
       "        [11., 10.,  9.,  9.,  8.,  7.,  7.,  6.,  5.,  4.,  3.]]),\n",
       " 3.0)"
      ]
     },
     "execution_count": 23,
     "metadata": {},
     "output_type": "execute_result"
    }
   ],
   "source": [
    "levenshtein(\"Levenshtein\", \"Livinshten\")"
   ]
  }
 ],
 "metadata": {
  "kernelspec": {
   "display_name": "Python 3",
   "language": "python",
   "name": "python3"
  },
  "language_info": {
   "codemirror_mode": {
    "name": "ipython",
    "version": 3
   },
   "file_extension": ".py",
   "mimetype": "text/x-python",
   "name": "python",
   "nbconvert_exporter": "python",
   "pygments_lexer": "ipython3",
   "version": "3.10.11"
  },
  "orig_nbformat": 4
 },
 "nbformat": 4,
 "nbformat_minor": 2
}
